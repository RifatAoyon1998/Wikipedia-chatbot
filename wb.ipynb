{
  "nbformat": 4,
  "nbformat_minor": 0,
  "metadata": {
    "colab": {
      "name": "Untitled0.ipynb",
      "provenance": [],
      "collapsed_sections": []
    },
    "kernelspec": {
      "name": "python3",
      "display_name": "Python 3"
    },
    "language_info": {
      "name": "python"
    }
  },
  "cells": [
    {
      "cell_type": "code",
      "execution_count": 1,
      "metadata": {
        "colab": {
          "base_uri": "https://localhost:8080/"
        },
        "id": "WCvKvE89O18P",
        "outputId": "2d98e7f9-5d7a-4eb3-8504-ef72a46c6af3"
      },
      "outputs": [
        {
          "output_type": "stream",
          "name": "stdout",
          "text": [
            "Looking in indexes: https://pypi.org/simple, https://us-python.pkg.dev/colab-wheels/public/simple/\n",
            "Requirement already satisfied: nltk in /usr/local/lib/python3.7/dist-packages (3.2.5)\n",
            "Requirement already satisfied: six in /usr/local/lib/python3.7/dist-packages (from nltk) (1.15.0)\n"
          ]
        }
      ],
      "source": [
        "pip install nltk"
      ]
    },
    {
      "cell_type": "code",
      "source": [
        "pip install newspaper3k"
      ],
      "metadata": {
        "colab": {
          "base_uri": "https://localhost:8080/"
        },
        "id": "nCv8JYyTPQ_0",
        "outputId": "c61f0ae2-f52d-40c1-ba75-d156f6675cd1"
      },
      "execution_count": 2,
      "outputs": [
        {
          "output_type": "stream",
          "name": "stdout",
          "text": [
            "Looking in indexes: https://pypi.org/simple, https://us-python.pkg.dev/colab-wheels/public/simple/\n",
            "Collecting newspaper3k\n",
            "  Downloading newspaper3k-0.2.8-py3-none-any.whl (211 kB)\n",
            "\u001b[K     |████████████████████████████████| 211 kB 4.9 MB/s \n",
            "\u001b[?25hCollecting tinysegmenter==0.3\n",
            "  Downloading tinysegmenter-0.3.tar.gz (16 kB)\n",
            "Requirement already satisfied: lxml>=3.6.0 in /usr/local/lib/python3.7/dist-packages (from newspaper3k) (4.2.6)\n",
            "Requirement already satisfied: PyYAML>=3.11 in /usr/local/lib/python3.7/dist-packages (from newspaper3k) (3.13)\n",
            "Collecting feedparser>=5.2.1\n",
            "  Downloading feedparser-6.0.10-py3-none-any.whl (81 kB)\n",
            "\u001b[K     |████████████████████████████████| 81 kB 10.4 MB/s \n",
            "\u001b[?25hCollecting jieba3k>=0.35.1\n",
            "  Downloading jieba3k-0.35.1.zip (7.4 MB)\n",
            "\u001b[K     |████████████████████████████████| 7.4 MB 21.2 MB/s \n",
            "\u001b[?25hRequirement already satisfied: nltk>=3.2.1 in /usr/local/lib/python3.7/dist-packages (from newspaper3k) (3.2.5)\n",
            "Collecting tldextract>=2.0.1\n",
            "  Downloading tldextract-3.3.0-py3-none-any.whl (93 kB)\n",
            "\u001b[K     |████████████████████████████████| 93 kB 2.0 MB/s \n",
            "\u001b[?25hRequirement already satisfied: requests>=2.10.0 in /usr/local/lib/python3.7/dist-packages (from newspaper3k) (2.23.0)\n",
            "Requirement already satisfied: python-dateutil>=2.5.3 in /usr/local/lib/python3.7/dist-packages (from newspaper3k) (2.8.2)\n",
            "Requirement already satisfied: beautifulsoup4>=4.4.1 in /usr/local/lib/python3.7/dist-packages (from newspaper3k) (4.6.3)\n",
            "Collecting feedfinder2>=0.0.4\n",
            "  Downloading feedfinder2-0.0.4.tar.gz (3.3 kB)\n",
            "Collecting cssselect>=0.9.2\n",
            "  Downloading cssselect-1.1.0-py2.py3-none-any.whl (16 kB)\n",
            "Requirement already satisfied: Pillow>=3.3.0 in /usr/local/lib/python3.7/dist-packages (from newspaper3k) (7.1.2)\n",
            "Requirement already satisfied: six in /usr/local/lib/python3.7/dist-packages (from feedfinder2>=0.0.4->newspaper3k) (1.15.0)\n",
            "Collecting sgmllib3k\n",
            "  Downloading sgmllib3k-1.0.0.tar.gz (5.8 kB)\n",
            "Requirement already satisfied: chardet<4,>=3.0.2 in /usr/local/lib/python3.7/dist-packages (from requests>=2.10.0->newspaper3k) (3.0.4)\n",
            "Requirement already satisfied: urllib3!=1.25.0,!=1.25.1,<1.26,>=1.21.1 in /usr/local/lib/python3.7/dist-packages (from requests>=2.10.0->newspaper3k) (1.24.3)\n",
            "Requirement already satisfied: certifi>=2017.4.17 in /usr/local/lib/python3.7/dist-packages (from requests>=2.10.0->newspaper3k) (2022.5.18.1)\n",
            "Requirement already satisfied: idna<3,>=2.5 in /usr/local/lib/python3.7/dist-packages (from requests>=2.10.0->newspaper3k) (2.10)\n",
            "Requirement already satisfied: filelock>=3.0.8 in /usr/local/lib/python3.7/dist-packages (from tldextract>=2.0.1->newspaper3k) (3.7.0)\n",
            "Collecting requests-file>=1.4\n",
            "  Downloading requests_file-1.5.1-py2.py3-none-any.whl (3.7 kB)\n",
            "Building wheels for collected packages: tinysegmenter, feedfinder2, jieba3k, sgmllib3k\n",
            "  Building wheel for tinysegmenter (setup.py) ... \u001b[?25l\u001b[?25hdone\n",
            "  Created wheel for tinysegmenter: filename=tinysegmenter-0.3-py3-none-any.whl size=13553 sha256=fcb1427afd14e4af1a182e72e4b3e7fd49e12bc67255fa4af78673954dc48f8b\n",
            "  Stored in directory: /root/.cache/pip/wheels/df/67/41/faca10fa501ca010be41b49d40360c2959e1c4f09bcbfa37fa\n",
            "  Building wheel for feedfinder2 (setup.py) ... \u001b[?25l\u001b[?25hdone\n",
            "  Created wheel for feedfinder2: filename=feedfinder2-0.0.4-py3-none-any.whl size=3357 sha256=96c251add601d0ccaf2f39ac31ee6ae63d32b2a4c7edc8951fd32d5229757658\n",
            "  Stored in directory: /root/.cache/pip/wheels/7f/d4/8f/6e2ca54744c9d7292d88ddb8d42876bcdab5e6d84a21c10346\n",
            "  Building wheel for jieba3k (setup.py) ... \u001b[?25l\u001b[?25hdone\n",
            "  Created wheel for jieba3k: filename=jieba3k-0.35.1-py3-none-any.whl size=7398404 sha256=8dc1086b346c0953d6473cb5b48153f1ba6ec8dac42b1832036478fd66a8d5b1\n",
            "  Stored in directory: /root/.cache/pip/wheels/4c/91/46/3c208287b726df325a5979574324878b679116e4baae1af3c3\n",
            "  Building wheel for sgmllib3k (setup.py) ... \u001b[?25l\u001b[?25hdone\n",
            "  Created wheel for sgmllib3k: filename=sgmllib3k-1.0.0-py3-none-any.whl size=6066 sha256=db04a564256c443ac2200c5da4a81d6e391a68db97b53f2f220a4e024f1c7ebf\n",
            "  Stored in directory: /root/.cache/pip/wheels/73/ad/a4/0dff4a6ef231fc0dfa12ffbac2a36cebfdddfe059f50e019aa\n",
            "Successfully built tinysegmenter feedfinder2 jieba3k sgmllib3k\n",
            "Installing collected packages: sgmllib3k, requests-file, tldextract, tinysegmenter, jieba3k, feedparser, feedfinder2, cssselect, newspaper3k\n",
            "Successfully installed cssselect-1.1.0 feedfinder2-0.0.4 feedparser-6.0.10 jieba3k-0.35.1 newspaper3k-0.2.8 requests-file-1.5.1 sgmllib3k-1.0.0 tinysegmenter-0.3 tldextract-3.3.0\n"
          ]
        }
      ]
    },
    {
      "cell_type": "code",
      "source": [
        "#import Library\n",
        "from newspaper import Article\n",
        "import random\n",
        "import string\n",
        "import nltk\n",
        "from sklearn.feature_extraction.text import CountVectorizer\n",
        "from sklearn.metrics.pairwise import cosine_similarity\n",
        "import numpy as np\n",
        "import warnings \n",
        "warnings.filterwarnings('ignore')"
      ],
      "metadata": {
        "id": "8sX4YRIvPc36"
      },
      "execution_count": 3,
      "outputs": []
    },
    {
      "cell_type": "code",
      "source": [
        "# download the punkt package\n",
        "nltk.download('punkt', quiet=True)"
      ],
      "metadata": {
        "colab": {
          "base_uri": "https://localhost:8080/"
        },
        "id": "ME-Ex2VeQWG2",
        "outputId": "df8aaba5-6933-4e2d-f641-7cbbff8596e0"
      },
      "execution_count": 4,
      "outputs": [
        {
          "output_type": "execute_result",
          "data": {
            "text/plain": [
              "True"
            ]
          },
          "metadata": {},
          "execution_count": 4
        }
      ]
    },
    {
      "cell_type": "code",
      "source": [
        "def website(text):\n",
        "  france=text\n",
        "  # article = Article('https://en.wikipedia.org/wiki/France')\n",
        "  article = Article('https://www.toureiffel.paris/en')\n",
        "  article.download()\n",
        "  article.parse()\n",
        "  corpus = article.text\n",
        "#get the Article\n"
      ],
      "metadata": {
        "id": "E2YZxMbDQopt"
      },
      "execution_count": 19,
      "outputs": []
    },
    {
      "cell_type": "code",
      "source": [
        "def Wiki(text):\n",
        "\n",
        "  france=text\n",
        "  article = Article('https://en.wikipedia.org/wiki/'+france)\n",
        "  # article = Article('https://www.toureiffel.paris/en')\n",
        "  article.download()\n",
        "  article.parse()\n",
        "  corpus = article.text\n",
        "  return corpus"
      ],
      "metadata": {
        "id": "nbG_xpMyP3y7"
      },
      "execution_count": 20,
      "outputs": []
    },
    {
      "cell_type": "code",
      "source": [
        "# print the article\n",
        "Wiki('Mbappe')\n",
        "# print(corpus)"
      ],
      "metadata": {
        "colab": {
          "base_uri": "https://localhost:8080/"
        },
        "id": "LoeeQTunNTO7",
        "outputId": "242d50b1-08b8-46b8-aec5-2132ba355a89"
      },
      "execution_count": 10,
      "outputs": [
        {
          "output_type": "stream",
          "name": "stdout",
          "text": [
            "['French footballer (born 1998)\\n\\nKylian Mbappé Lottin (born 20 December 1998) is a French professional footballer who plays as a forward for Ligue 1 club Paris Saint-Germain and the France national team.', 'The highest-paid player in the world, he is considered one of the best players in the world.', 'His dribbling abilities, exceptional speed, and finishing have often been particularly highlighted.', 'Mbappé began his senior career with Ligue 1 club Monaco, making his professional debut in 2015, aged 16.', 'With them, he won a Ligue 1 title, Ligue 1 Young Player of the Year, and the Golden Boy award.', 'In 2017, he signed for league rivals Paris Saint-Germain (PSG) on an initial loan, which was made permanent in 2018 in a transfer worth €180 million plus add ons, making him both the second-most expensive player and most expensive teenager.', \"[4] At PSG, Mbappé's honours include four Ligue 1 titles and three Coupe de France titles; he was also a prominent player in the club's run to their first UEFA Champions League Final in 2020.\", \"He currently stands as PSG's second-highest goalscorer in history.\", 'At international level, Mbappé made his senior debut for France in 2017, at age 18.', 'At the 2018 FIFA World Cup, Mbappé became the youngest French player to score at a World Cup, and became the second teenager, after Pelé, to score in a World Cup Final.', 'He finished as the joint second-highest goalscorer as France won the tournament, and he received the Best Young Player and French Player of the Year awards for his performances.', 'Mbappé was named to the FIFA FIFPro World11 in 2018 and 2019, the UEFA Team of the Year in 2018 and the UEFA Champions League Squad of the Season in 2016–17, 2019–20 and 2020–21.', 'He was awarded the Globe Soccer Best Player of the Year in 2021.', 'At PSG, he has been named Ligue 1 Player of the Year three times and has finished as the Ligue 1 top scorer for four consecutive seasons.', 'Early life\\n\\nMbappé was born in Paris[5] and was raised in Bondy, Seine-Saint-Denis, a commune 10.9 km (6.8 mi) from the centre of Paris.', \"[6] His father, Wilfried, is originally from Cameroon, and, as well as being Mbappé's agent, is a football coach, while his mother, Fayza Lamari, is of Algerian Kabyle origin and is a former handball player.\", \"[7][8][9] He has a younger brother, Ethan, who played for Paris Saint-Germain's under-12 squad in 2018.\", \"[10][11] Mbappé's adoptive brother, Jirès Kembo Ekoko, is also a professional football player.\", '[12] Growing up, his idols were Zinedine Zidane and Cristiano Ronaldo.', '[13][14] As a child, Kylian Mbappé went to a private Catholic school in Bondy, where he was considered academically gifted but unruly.', '[15]\\n\\nClub career\\n\\nEarly career\\n\\n\"He had technique and vision in the game that most children just don\\'t have.', \"He's got eyes in the back of his head.\", 'He knows how to anticipate where the ball will go.', 'Here, he never played for his proper age group, he always played with older children because there was no point leaving him with kids his own age.\"', '—Atmane Airouche, president of AS Bondy, on Mbappé as a child.', '[9]\\n\\nMbappé began his career at AS Bondy, coached by his father, Wilfried.', 'Another of his youth coaches at AS Bondy, Antonio Riccardi, stated,\\n\\nThe first time I coached him was when he was six years old.', 'You could tell he was different.', 'Kylian could do much more than the other children.', 'His dribbling was already fantastic and he was much faster than the others.', \"He was the best player I've ever seen in 15 years coaching here.\", \"In Paris, there are many talents but I'd never seen a talent like him.\", \"He was what we call a 'crack' (the best).\", '[16]\\n\\nEventually, he moved to the Clairefontaine academy, putting on a host of impressive performances leading to numerous French clubs, and Real Madrid, Chelsea, Liverpool, Manchester City and Bayern Munich, attempting to sign him.', \"[9] At the age of 11, Real Madrid invited Mbappé to train with their under-12s and visit the club's facilities.\", '[17] At age 14 he travelled to London after an invite from Chelsea, playing a match for their youth team against Charlton Athletic.', '[18] He ultimately settled on Monaco.', \"[19]\\n\\nMonaco\\n\\n2015–16: Development\\n\\nIn October 2015, Mbappé was brought in by Leonardo Jardim to be a mainstay in Monaco's B-team but his level of skill and maturity prompted his promotion to the main squad after just three weeks.\", '[20] He made his first team debut two months later on 2 December 2015 in a 1–1 Ligue 1 home draw against Caen, replacing Fábio Coentrão after 88 minutes.', \"He therefore became Monaco's youngest-ever first-team player aged 16 years and 347 days, breaking Thierry Henry's record set 21 years previously.\", \"[19][21]\\n\\nOn 20 February 2016, Mbappé scored his first goal for the club's first team, a stoppage-time goal in a home Ligue 1 3–1 win over Troyes; at the age of 17 years and 62 days, he became the youngest first team goalscorer in Monaco's history—once again displacing Henry in the process.\", '[22][23] On 6 March 2016, Mbappé signed his first professional contract, a three-year deal, tying him to Monaco until June 2019.', '[24] In an interview with CNN, Vadim Vasilyev, AS Monaco\\'s vice-president, who played a key role in Mbappé signing his first professional contract with the Ligue 1 club, stated that he knew early on that Mbappé was a \"phenomenon.', '\"[25]\\n\\n2016–17: Breakthrough and league title\\n\\nMbappé warming up for Monaco in 2017\\n\\nMbappé scored the first hat-trick of his first team career on 14 December 2016 in the 7–0 rout of Rennes in the Coupe de la Ligue round of 16 at the Stade Louis II[21][26] – the first hat-trick scored by any Monaco player in the competition since Sonny Anderson in 1997.', '[27]\\n\\nOn 11 February 2017, Mbappé scored the first Ligue 1 hat-trick of his career in the 5–0 home win over Metz; at 18 years and two months he became the youngest player to score a Ligue 1 hat-trick since Jérémy Ménez did it for Sochaux back in 2005.', \"[28]\\n\\nOn 21 February, Mbappé scored Monaco's second goal in the 40th minute with a half-volley after receiving Fabinho's long ball over the opponents' back line (it was his first ever UEFA Europa League or UEFA Champions League goal and he became the second youngest French scorer in UEFA Champions League history behind Karim Benzema) in the UEFA Champions League round of 16 first leg match against Manchester City, which Monaco lost 5–3.\", '[29][30] On 5 March, Mbappé scored two first-half goals in the 4–0 Ligue 1 home win over Nantes to bring his Ligue 1 career tally to ten goals and become the youngest player in the last 30 years to hit the Ligue 1 ten-career-goals mark.', 'His brace against Nantes on 5 March brought up his 2016–17 season tally to nine Ligue 1 goals and five Ligue 1 assists in just 822 minutes of Ligue 1 football.', '[31][32] On 11 March, he scored a goal in the 2–1 Ligue 1 home win against Bordeaux to register his seventh Ligue 1 goal in his last four starts.', \"[33]\\n\\nIn the UEFA Champions League round of 16-second leg match at the Stade Louis II on 15 March, he made the score 1–0 for Monaco in the 8th minute by turning home Bernardo Silva's low cross from close-range (his 11th goal in his past 11 matches in all competitions) to help Monaco beat Manchester City 3–1 (aggregate score 6–6) and advance to the quarter-finals on the away goals rule.\", '[34] In the quarter-finals against Borussia Dortmund, Mbappé won a penalty and scored two goals as Monaco won the away leg 3–2.', '[35] In the second leg, Mbappé opened the scoring as Monaco won 3–1 and advanced to the semi-finals.', \"[36] Monaco were eliminated from the Champions League 4–1 on aggregate by Juventus, with Mbappé scoring Monaco's lone goal in the second leg.\", '[37] Mbappé ended the 2016–17 season with 26 goals from 44 matches in all competitions as Monaco won the Ligue 1 title.', '[38]\\n\\nMbappé credited fellow striker at Monaco Radamel Falcao as a key influence on him throughout the season, giving him the space to express himself, teaching him to be \"calm\" and \"serene\" during the game, traits which Mbappé noted he lacked.', '[39]\\n\\nParis Saint-Germain\\n\\n2017–18: World record transfer and treble\\n\\nOn 31 August 2017, Paris Saint-Germain announced the signing of Mbappé from Monaco on loan.', \"[40] Part of the tipping point was a convincing speech by then-Paris coach Unai Emery at the Mbappés' home in the summer, when Zidane was not guaranteeing the youngster a starting spot at Real Madrid (fresh from their 12th Champions League triumph) with an attacking trio of Karim Benzema, Gareth Bale, and Cristiano Ronaldo.\", 'PSG scout Luis Ferrer told Le Parisien: \"I remember how strong Unai was, how good!', 'He gave his word to Kylian that he would play with him.', 'And he kept his promise.', \"Kylian wasn't quite ready for a Champions League game but Unai had committed, so he played him anyway.\", 'One night I got back to Paris at 10:30 p.m.', \"When I arrived, I called Antero [Henrique, PSG sporting director] to give him an update and he was surprised that I hadn't stayed in the south.\", \"The next day, at six o'clock, I took the first flight.\", 'Two hours later I rang the doorbell of the Mbappés with croissants.', '\"[41][42]\\n\\nHe explained for Argentine media outlet Infobae: \"We had to work twice as hard as Real Madrid.', 'We went to his house to talk to his parents and sell them our project.', 'We had to do a lot to show him that we really wanted him, that he would be important to us,\" Ferrer stressed.', '[43][44] Mbappé wanted to find a prestigious club where he could be sure of a starting place, with the World Cup just a year away.', 'The fee required for a subsequent full transfer was set at a rumoured €145 million plus €35 million in add-ons, making him the most expensive teenager ever, the most expensive transfer ever within a domestic league, and potentially the second most expensive player ever, behind teammate Neymar.', '[45][46][47][48] He was handed the number 29 shirt upon arrival in the French capital.', '[49]\\n\\nMbappé scored on his debut on 8 September in a 5–1 Ligue 1 win at Metz, in which Benoît Assou-Ekotto was sent off for fouling him.', '[50] Four days later, Mbappé recorded his first European goal for Les Parisiens in a 5–0 UEFA Champions League group stage away defeat of Celtic.', \"[51] He starred in PSG's 3–0 victory over Bayern Munich in the second group game of the Champions League, setting up goals for Edinson Cavani and Neymar, the latter seeing him taking out a defender with a feint by rolling the ball under his foot.\", '[52] On 6 December, Mbappé scored his 10th Champions League goal in a 3–1 defeat to Bayern Munich and became the youngest player to reach that mark at the age of 18 years and 11 months.', '[53] Having won his first league title with the club, on 8 May 2018, Mbappé played as PSG won 2–0 against Les Herbiers to clinch the 2017–18 Coupe de France.', '[54]\\n\\n2018–19: Ligue 1 Player of the Year\\n\\nIn July 2018, Mbappé was given the number 7 jersey for the upcoming season with PSG, taking up the squad number vacated by Lucas Moura.', '[55] Sporting the hashtag #K7LIAN, Mbappé stated, \"I keep trying to progress on the pitch and I think that, for me, it was the right time to change number.', 'It is something of an affirmation.', 'The No.', '7 shirt is a legendary one and many greats have worn it.', 'I hope that I will be able to do this number justice on the pitch.', '\"[55]\\n\\nIn his first appearance of the season, Mbappé scored twice in the last 10 minutes as PSG won 3–1 against Guingamp in Ligue 1.', '[56] In the following league game, the front three of Mbappé, Cavani and Neymar all scored in a 3–1 win over Angers at home, with Mbappé – starting his first game of the season – scoring from a volley and setting up Neymar to score the third.', '[57] On 1 September, he scored and assisted in a 4–2 away win over Nîmes, but was sent off for the first time in his career with a straight red card in injury time, after shoving Téji Savanier in retaliation for a late challenge from behind, for which Savanier was also sent off.', '[58] Regarding his sending-off, Mbappé told reporters after the match, \"If I had the chance to do it over again, I would do the same thing.', 'I will apologise to the supporters and everybody, but I cannot tolerate this sort of thing.', '\"[59] On 8 October, Mbappé scored four goals in just 13 minutes in a 5–0 home victory over Lyon and became the youngest player (19 years and 9 months) to score four goals in one game in Ligue 1 over the last 45 seasons.', '[60] On 3 December, Mbappé was the inaugural winner of the Kopa Trophy, which is awarded by France Football to the best player in the world under the age of 21.', '[61]\\n\\nOn 19 January 2019, Mbappé was one of two players (the other being Cavani) to score a hat-trick in a 9–0 win over Guingamp, breaking a record PSG set the previous season.', '[62] On 12 February, he scored a goal in a 2–0 win over Manchester United at Old Trafford in the Champions League round of 16.', '[63] On 2 March, he scored twice in a 2–1 away win over Caen to reach his 50th goal with the club.', '[64] On 6 March, PSG lost 3–1 at home against Manchester United, to be knocked out from the Champions League on the away goals rule.', '[65]\\n\\nOn 21 April, he scored a hat-trick in a 3–1 win against Monaco, to be his first goals against his former club.', '[66] PSG finished the season as Ligue 1 champions,[67] with Mbappé winning the Player of the Year award,[68] while also finishing the season as the top goalscorer with 33 goals.', '[67]\\n\\n2019–20: Back-to-back league top goalscorer\\n\\nMbappé playing against Dynamo Dresden in July 2019\\n\\nOn 3 August, Mbappé scored in a 2–1 win over Rennes to capture his first title of the 2019–20 season, the 2019 Trophée des Champions.', \"[69] He then scored again in PSG's opening Ligue 1 match of the season, a 3–0 home win over Nîmes on 11 August.\", '[70] On 22 October, he came off the bench and scored a perfect hat-trick,[71] in a 5–0 away win over Belgian side Club Brugge in the Champions League; at the age of 20 years and 306 days, he became the youngest player ever to score at least 15 goals in the competition.', \"[72]\\n\\nOn 1 May 2020, PSG were crowned Ligue 1 champions after the season had been called off amid the COVID-19 pandemic; at the time of the League's premature suspension, PSG were in first place, with a twelve–point lead over second–placed Marseille.\", \"[73][74] Mbappé finished the 2019–20 season as joint-top scorer in Ligue 1 with 18 goals, along with Monaco's Wissam Ben Yedder.\", 'However, Mbappé was assigned the title of top scorer due to his superior goals per game ratio.', '[75] On 24 July, in the 2020 Coupe de France Final against Saint-Étienne, Mbappé was forced off after sustaining an injury following a challenge from Loïc Perrin, who was sent off; PSG won the match 1–0,[76] although Mbappé was ruled out of the 2020 Coupe de la Ligue Final,[77] which PSG went on to win, completing a domestic treble.', \"[78] He returned to action in the Champions League quarter-final against Atalanta on 12 August, coming on a substitute, and assisting Choupo-Moting's match–winning goal in injury time.\", '[79] PSG eventually lost out in the Champions League final 1–0 to Bayern Munich on 23 August.', '[80]\\n\\n2020–21: Third time top scorer\\n\\nMbappé missed the first three matches of the season after contracting COVID-19 while playing with the France national team.', '[81] He returned to action on 20 September 2020 in a 3–0 away win against Nice, and scored a goal from a penalty kick.', '[82] On 28 October, Mbappé recorded two assists, both for Moise Kean, in a 2–0 Champions League group stage victory against İstanbul Başakşehir.', '[83] In doing so, he became the player with the most assists in the competition since the beginning of the 2017–18 edition, with his tally adding up to fourteen over the four seasons.', '[84] In a Ligue 1 match against Montpellier on 5 December, Mbappé scored his 100th goal for PSG, becoming only the fifth player to achieve the feat for the Parisian club.', \"[85] In his side's final Champions League group match, Mbappé scored his first two goals of the European campaign against Başakşehir, as PSG won 5–1 and qualified for the knockout phase as group winners.\", '[86] He also became the youngest player in Champions League history to reach twenty goals (although this record would then be surpassed later on in the same season by Erling Haaland).', \"[87][88]\\n\\nOn 16 February 2021, Mbappé became only the third player, after Faustino Asprilla and Andriy Shevchenko, to score a Champions League hat-trick against Barcelona, doing so in PSG's 4–1 round of 16 win at the Camp Nou.\", \"[89] Mbappé's hat-trick also saw him overtake Pauleta's total of 109 goals to become PSG's third-highest scorer, with only Cavani (200 goals) and Zlatan Ibrahimović (156 goals) getting more for the club.\", '[90] On 27 February, Mbappé scored twice in a 4–0 away win against Dijon, becoming the first player to score five braces in the Ligue 1 season.', '[91] In the second leg against Barcelona on 10 March, Mbappé scored from the spot in a 1–1 draw at the Parc de Princes, as his side advanced to the quarter-finals 5–2 on aggregate.', \"[92] Mbappé's penalty was his 25th Champions League goal, surpassing opponent Lionel Messi as the youngest player to reach this milestone, aged 22 years and 80 days.\", 'Adding to his hat-trick from the first leg, Mbappé additionally became the first player to score four goals against Barcelona in a single Champions League season.', '[93]\\n\\nIn the first leg of the Champions League quarter-final against Bayern Munich on 7 April, Mbappé scored two goals, helping his team to a 3–2 victory at the Allianz Arena, a first victory for PSG in Munich since 1994.', '[94] PSG later progressed to the semi-finals to be eventually eliminated by Manchester City, in which he missed the second leg due to a calf injury.', '[95] On 17 May, Mbappé scored his 40th goal of the season in a 4–0 league win over Reims, making it his most-prolific season to date and hitting the forty goal mark for the first time in his career.', '[96] Three days later, Mbappé scored once and assisted the second in the Coupe de France Final against his former club Monaco as PSG won 2–0 to claim their first major trophy of the season.', \"[97] He ended the Ligue 1 campaign with 27 goals, to become the top scorer for the third consecutive season but PSG missed out on the league title - it was the first time in Mbappé's career where he did not win Ligue 1 after four consecutive successes.\", '[98][99] Mbappé ended the season with the Ligue 1 Player of The Year Award and featured in the Ligue 1 Team of The Season.', \"[100]\\n\\n2021–22: Player of the Year and contract extension\\n\\nOn 14 August 2021, prior to Paris Saint-Germain's opening home match of the 2021–22 season against Strasbourg, Mbappé was booed by the Parc des Princes amidst rumours that he wanted to sign for Spanish club Real Madrid.\", \"[101] The match ended in a 4–2 victory for the Parisians, with Mbappé setting up three of his team's goals.\", '[102] He scored his first goal of the season in a 4–2 away win against Brest six days later.', '[103] The following match against Reims on 29 August, in which Lionel Messi notably made his debut for PSG, ended in a 2–0 Rouge-et-Bleu victory thanks to two Mbappé goals.', '[104] On 24 November, Mbappé scored in 2–1 Champions League defeat to Manchester City at the City of Manchester Stadium.', '[105] On 7 December, he scored two goals in a 4–1 Champions League home win over Club Brugge.', 'The goals, which were his 30th and 31st in the Champions League, made him the youngest player to reach this milestone in the history of the competition.', '[106]\\n\\nOn 12 December 2021, Mbappé scored twice against Monaco in Ligue 1 to reach a century of league goals for PSG.', 'At 22 years and 357 days old, he became the youngest player to score 100 goals for a single team in the French top-flight since Opta began recording data in the 1950–51 season.', '[107] On 3 January 2022, Mbappé scored his first hat-trick of the season in a 4–0 Coupe de France win over Vannes.', '[108] On 11 February, he scored the winning goal in stoppage time in a 1–0 league win over Rennes, a feat he repeated four days later in a 1–0 Champions League victory over Real Madrid in the first leg of the round of 16.', \"[109][110] He scored another goal in the second leg, making him the second-highest goalscorer in Paris Saint-Germain's history, but saw his team knocked out following a 3–1 defeat at the Santiago Bernabéu Stadium.\", '[111][112]\\n\\nOn 21 May 2022, Mbappé extended his contract with PSG until 2025,[113] despite speculations of a possible transfer to Real Madrid,[114] which prompted La Liga officials to file a complaint to UEFA regarding accumulating losses of PSG in the previous years.', \"[115] Mbappé himself called and spoke to Real Madrid's president Florentino Pérez, during which he told him that he would not be signing for Real Madrid.\", \"[116] According to Sky Sports, the financial details of Mbappé's contract include a monthly wage of £4 million, making him the highest-paid player in the world.\", '[117] Mbappé and PSG also secured a signing-on figure of £100 million.', \"[117]\\n\\nIn the hours following Mbappé's contract extension, he scored a hat-trick in a 5–0 win over Metz, to finish the season with 28 goals as top scorer for the fourth consecutive season.\", '[118] He became the third player to finish as Ligue 1 top scorer four seasons in a row.', 'Mbappé also provided 17 assists in the season, becoming the first player to finish as both top scorer and top assist provider in Ligue 1 history.', '[119][120]\\n\\nInternational career\\n\\nYouth career and early senior career\\n\\nMbappé playing for France in March 2018\\n\\nMbappé capped a fine debut senior season at Monaco by scoring five times for France as they won the 2016 UEFA European Under-19 Championship, the striker almost single-handedly securing their spot in the final with a sparkling performance in their 3–1 victory against Portugal in the semi-finals.', '[19]\\n\\nMbappé was called up to the senior France squad for the first time to face Luxembourg and Spain in March 2017.', '[121] He made his debut on 25 March against the former side, coming on for Dimitri Payet in the 78th minute of a 3–1 2018 FIFA World Cup qualification away win.', '[21] In doing so, he became the second youngest player ever (only behind Maryan Wisniewski) to feature for France at 18 years, three months and five days old.', '[122] On 31 August 2017, Mbappé scored his first senior international goal in a 2018 World Cup qualification match against the Netherlands.', '[123] He scored twice against Russia in a friendly in March 2018.', '[124]\\n\\n2018 FIFA World Cup\\n\\nOn 17 May 2018, Mbappé was called up to the France squad for the 2018 World Cup in Russia.', \"[125] On 21 June 2018, he scored his first World Cup goal in France's 1–0 Group C win over Peru.\", 'This made him the youngest French goalscorer in World Cup history at age 19.', '[126] On 30 June 2018, he was named man of the match in a 4–3 win over Argentina, scoring twice and suffering a foul in the box which resulted in Antoine Griezmann opening the score from a penalty kick.', '[127] Mbappé was the second teenager to score two goals in a World Cup match after Pelé in 1958.', '[128] In a post-match press conference, Mbappé stated: \"It\\'s flattering to be the second one after Pelé but let\\'s put things into context – Pelé is in another category.', '\"[129]\\n\\nOn 15 July, Mbappé scored with a 25-yard strike against Croatia in the 2018 World Cup Final, with France winning 4–2.', '[130] He became the second teenager, after Pelé, to score in a World Cup Final, and with four goals in the tournament he received the FIFA World Cup Best Young Player Award.', '[131] Pelé congratulated him on social media, and stated \"welcome to the club\".', '[132]\\n\\nEuro 2020 qualifying and 2020–21 UEFA Nations League\\n\\nOn 11 June 2019, Mbappé scored his 100th career goal in a 4–0 away win over Andorra in Euro 2020 qualifying.', '[133][134] On 5 September 2020, Mbappé scored the only goal for France in a 1–0 UEFA Nations League win against Sweden.', 'However, two days after the game, he tested positive for COVID-19.', '[135] He made his return to play for France in a 7–1 victory against Ukraine on 7 October 2020, a match in which he scored a goal and assisted another.', '[136][137] One week later, he scored the match-winning goal in a 2–1 win against Croatia.', '[138] France topped their Nations League Group and qualified for the 2021 UEFA Nations League Finals.', '[139]\\n\\nUEFA Euro 2020\\n\\nUEFA Euro 2020 was postponed for a year because of the Coronavirus crisis.', '[140] On 18 May 2021, Mbappé was called up for the France squad for UEFA Euro 2020, his second major international tournament.', '[141] On 15 June, Mbappè scored one goal and later assisted one, both of which were later deemed to be offside, in a group stage match against Germany.', \"On 28 June, he provided the assist for Karim Benzema's first goal in France's match against Switzerland in the round of 16.\", 'After a 3–3 draw, the game went to a penalty shoot-out; Mbappé failed to score the decisive fifth penalty, and France were eliminated from the tournament.', '[142] Mbappé failed to score in any of the four games France played in the competition.', '[143]\\n\\n2021 UEFA Nations League Finals and 2022 World Cup Qualification\\n\\nMbappé playing for France against Ukraine in March 2021\\n\\nIn the Nations League semi-final on 7 October 2021, Mbappé assisted Benzema and later scored a goal himself from the penalty spot to help France come from behind and defeat Belgium 3–2.', \"This was Mbappé's 50th appearance for Les Bleus at just 22 years and 9.5 months old.\", '[144] In the final three days later, he once again set-up Benzema to tie the match and later scored the match-winning goal for France to clinch the title for the first time with a 2–1 victory over Spain.', '[145] With two goals and two assists in the Nations League Finals, Mbappé was awarded the competition\\'s Golden Boot, known as the \"Alipay Top Scorer Trophy.', '\"[146] On 13 November, Mbappé scored his first goals in the 2022 World Cup qualifiers with a super hat-trick (4 goals) in a massive 8–0 win over Kazakhstan as France booked their place for Qatar 2022.', \"[147] Mbappé's super hat-trick, which included a 32-minute first half hat-trick, was his first for his country and the first competitive hat-trick scored for France since Dominique Rocheteau in 1985.\", \"[148] Three days later, Mbappé scored and set up Benzema again in a 2–0 away win over Finland in France's last World Cup qualifier.\", \"[149] Mbappé's last five assists for his country have all gone to Benzema.\", '[150]\\n\\nPlayer profile\\n\\nStyle of play and reception\\n\\nMbappé has been described by Arsène Wenger as a \"huge football talent\" who \"has similarities to Thierry Henry\".', '[151] His talent and precocious performances for France at the 2018 World Cup also led him to be compared to Pelé in the media.', '[152] A versatile forward, Mbappé often plays as a winger, and is capable of playing on either flank, due to his ability with both feet.', '[153][154] He is capable of cutting into the centre onto his stronger right foot from the left wing, and is also capable of creating chances and providing assists for teammates from the right due to his vision.', '[155][156][157][158] He is also able to play in the centre as a main striker, due to his composure, clinical finishing, and eye for goal.', '[159][160][161][162] A highly skilful player, Mbappé is also known for his excellent dribbling ability, as well as his explosive acceleration, agility, quick feet, and creativity when in possession of the ball, as demonstrated by his use of elaborate feints, such as step overs, or sudden changes of pace or direction to beat opponents in one on one situations.', '[163][164][165] In spite of his tall lean frame, he is also an athletic player, gifted with physical strength.', '[166]\\n\\nIn addition to his technical skills, Mbappé is also highly regarded for his outstanding pace and close ball control when dribbling at speed, as well as his excellent movement, tactical intelligence, and ability to beat the defensive line by making attacking runs into space both on and off the ball.', '[155][164] His ability to time his runs enables him to stretch opposing defences, and also make him a dangerous offensive threat on counter-attacks.', \"[155][164][167][168] In April 2017, former France international Nicolas Anelka said that Mbappé's ability to run at defences reminded him of Ronaldo of the 1996 Olympics and that Mbappé had the characteristics of a world-class player.\", '[169] Mbappé was named the fastest player in the world in a ranking by French newspaper Le Figaro.', \"[170] When Stefan de Vrij, central defender for Inter Milan and the Netherlands, was asked of his toughest opponent, he placed Mbappé ahead of anyone else, including Mbappé's childhood idol Cristiano Ronaldo.\", \"[171] In 2018, Mbappé was considered the world's most expensive player from a transfer value perspective by the CIES.\", '[172]\\n\\nPersonal life\\n\\nIn a 2018 interview with Time, Mbappé spoke about the sacrifices he made as a teenager to focus on his football development: \"I did not have the moments of so-called normal people during adolescence, like going out with friends, enjoying good times.\"', 'But despite missing out on a \"normal\" life, Mbappé states he is \"living the life he always dreamed of\".', '[173] Just over four years after making his professional debut he has over 50 million Instagram followers.', '[173] While he admits his \"life has been totally turned upside down\" since he first entered the spotlight, he says he is \"happy\".', '[173]\\n\\nOn 25 June 2021, Kylian\\'s brother Ethan signed an \"aspiring\" contract with Paris Saint-Germain in a deal lasting until 2024.', '[174]\\n\\nMbappé has a sponsorship deal with sportswear and equipment supplier Nike.', 'In 2017, his prodigious talent saw Nike launch his own personalised football boots at age 18, the Kylian Mbappé Nike Hypervenom 3.', '[175] In 2018, he unveiled the Nike Mercurial Superfly VI boots which were inspired by the R9 Mercurial boots of former Brazilian striker Ronaldo.', '[176] In 2018, Swiss watchmaker Hublot signed Mbappé as a global ambassador.', \"[177]\\n\\nMbappé features in EA Sports' FIFA video game series: on FIFA 18 he had the highest potential rating of 94.\", '[178] His trademark goal celebration – posing with his arms folded and hands tucked under his armpits – was inspired by his younger brother Ethan who would celebrate in this manner when beating Kylian at FIFA.', '[179][180] The celebration appears in FIFA 19.', '[181] Mbappé features as the cover star of FIFA 21, making him the youngest to appear on the cover solo.', '[182] He was featured on FIFA 22 cover for the second consecutive year, making him one of the rare players to achieve back-to-back FIFA cover star status.', \"[183]\\n\\nPhilanthropy\\n\\nMbappé (pictured receiving his FIFA World Cup young player award next to French president Emmanuel Macron ) met with the president in February 2018 to discuss a sports project in Africa\\n\\nOn 22 February 2018, Mbappé was joined by two of Africa's greatest strikers, former AC Milan forward and current Liberia President George Weah, and former Chelsea and Ivory Coast forward Didier Drogba, in a meeting with French President Emmanuel Macron and FIFA president Gianni Infantino at the Élysée Palace in Paris that focused on a sports development project in Africa.\", \"[184] Mbappé stated that the development of African sport is important to him due to his parents' African origins.\", '[185]\\n\\nOn 28 January 2019, Mbappé donated $34,000 (around £26,000) to a crowdfunding campaign to finance a private search mission to find football player Emiliano Sala, whose light aircraft had gone missing over the English Channel a week earlier.', \"[186] Later, on 10 February 2019, Mbappé donated a further £27,000 to the GoFundMe campaign created to fund the search for the plane's still-missing pilot, David Ibbotson.\", '[187]\\n\\nCareer statistics\\n\\nClub\\n\\nAs of match played 21 May 2022[21]\\n\\nAppearances and goals by club, season and competition Club Season League National Cup[a] League Cup[b] Europe Other Total Division Apps Goals Apps Goals Apps Goals Apps Goals Apps Goals Apps Goals Monaco II 2015–16 CFA 10 2 — — — — 10 2 2016–17 CFA 2 2 — — — — 2 2 Total 12 4 — — — — 12 4 Monaco 2015–16 Ligue 1 11 1 1 0 1 0 1[c] 0 — 14 1 2016–17 Ligue 1 29 15 3 2 3 3 9[d] 6 — 44 26 2017–18 Ligue 1 1 0 — — — 1[e] 0 2 0 Total 41 16 4 2 4 3 10 6 1 0 60 27 Paris Saint-Germain (loan) 2017–18 Ligue 1 27 13 5 4 4 0 8[d] 4 — 44 21 Paris Saint-Germain 2018–19 Ligue 1 29 33 4 2 2 0 8[d] 4 0 0 43 39 2019–20 Ligue 1 20 18 3 4 3 2 10[d] 5 1[e] 1 37 30 2020–21 Ligue 1 31 27 5 7 — 10[d] 8 1[e] 0 47 42 2021–22 Ligue 1 35 28 3 5 — 8[d] 6 0 0 46 39 Total 142 119 20 22 9 2 44 27 2 1 217 171 Career total 195 139 24 24 13 5 54 33 3 1 289 202\\n\\nInternational\\n\\nAs of match played 29 March 2022[188]\\n\\nAppearances and goals by national team and year National team Year Apps Goals France 2017 10 1 2018 18 9 2019 6 3 2020 5 3 2021 14 8 2022 1 2 Total 54 26\\n\\nAs of match played 29 March 2022.', 'France score listed first, score column indicates score after each Mbappé goal.', '[188]\\n\\nHonours\\n\\nMonaco\\n\\nParis Saint-Germain\\n\\nFrance U19\\n\\nFrance\\n\\nIndividual\\n\\nOrders\\n\\nSee also']\n"
          ]
        }
      ]
    },
    {
      "cell_type": "code",
      "source": [
        "# Tokenization\n",
        "\n",
        "text = corpus\n",
        "sentence_list = nltk.sent_tokenize(text)"
      ],
      "metadata": {
        "id": "5quB_3z6OCLt"
      },
      "execution_count": 77,
      "outputs": []
    },
    {
      "cell_type": "code",
      "source": [
        "print(sentence_list)"
      ],
      "metadata": {
        "colab": {
          "base_uri": "https://localhost:8080/",
          "height": 166
        },
        "id": "X0hPfIWUOart",
        "outputId": "41cfcd80-b17f-4ceb-e1de-0433de43f2ff"
      },
      "execution_count": 6,
      "outputs": [
        {
          "output_type": "error",
          "ename": "NameError",
          "evalue": "ignored",
          "traceback": [
            "\u001b[0;31m---------------------------------------------------------------------------\u001b[0m",
            "\u001b[0;31mNameError\u001b[0m                                 Traceback (most recent call last)",
            "\u001b[0;32m<ipython-input-6-38906b21d0f8>\u001b[0m in \u001b[0;36m<module>\u001b[0;34m()\u001b[0m\n\u001b[0;32m----> 1\u001b[0;31m \u001b[0mprint\u001b[0m\u001b[0;34m(\u001b[0m\u001b[0msentence_list\u001b[0m\u001b[0;34m)\u001b[0m\u001b[0;34m\u001b[0m\u001b[0;34m\u001b[0m\u001b[0m\n\u001b[0m",
            "\u001b[0;31mNameError\u001b[0m: name 'sentence_list' is not defined"
          ]
        }
      ]
    },
    {
      "cell_type": "code",
      "source": [
        "# A function send a reply to greetings\n",
        "def greeting_response(text):\n",
        "  text = text.lower()\n",
        "  bot_greetings = ['Bonjour', 'Hello' , 'Hi' , 'Hola']\n",
        "  user_greetings = ['Bonjour', 'Hello' , 'Hi' , 'Hola']\n",
        "  for word in text.split():\n",
        "    if word in user_greetings:\n",
        "      return random.choice(bot_greetings)"
      ],
      "metadata": {
        "id": "K8Xl26CiOqgI"
      },
      "execution_count": 21,
      "outputs": []
    },
    {
      "cell_type": "code",
      "source": [
        "def index_sort(list_var):\n",
        "  length = len(list_var)\n",
        "  list_index = list(range(0,length))\n",
        "  x = list_var\n",
        "  for i in range(length):\n",
        "    for j in range(length):\n",
        "      # swap\n",
        "      temp = list_index[i]\n",
        "      list_index[i] = list_index[j]\n",
        "      list_index[j] = temp\n",
        "\n",
        "  return list_index   "
      ],
      "metadata": {
        "id": "NQ6N7K67RUvL"
      },
      "execution_count": 22,
      "outputs": []
    },
    {
      "cell_type": "code",
      "source": [
        "#Bot response\n",
        "def bot_response(user_input):\n",
        "  user_input = user_input.lower()\n",
        "  sentence_list.append(user_input)\n",
        "  bot_response=''\n",
        "  cm = CountVectorizer().fit_transform(sentence_list)\n",
        "  similarity_score = cosine_similarity(cm[-1],cm)\n",
        "  similarity_score_list = similarity_score.flatten()\n",
        "  index = index_sort(similarity_score_list)\n",
        "  index = index[1:]\n",
        "  response_flag = 0\n",
        "\n",
        "  j =0\n",
        "  for i in range(len(index)):\n",
        "    if similarity_score_list[index[i]] > 0.0 :\n",
        "      bot_response = bot_response+' '+sentence_list[index[i]]\n",
        "      response_flag =1\n",
        "      j = j+1\n",
        "\n",
        "    if j > 2:\n",
        "      break \n",
        "  if response_flag == 0:\n",
        "    bot_response = bot_response+' '+'I do not underestand.'\n",
        "\n",
        "  sentence_list.remove(user_input)\n",
        "\n",
        "  return bot_response  \n",
        "\n",
        "\n"
      ],
      "metadata": {
        "id": "3CWlIE8SPtGh"
      },
      "execution_count": 23,
      "outputs": []
    },
    {
      "cell_type": "code",
      "source": [
        "#Start the Chat\n",
        "\n",
        "def OK():\n",
        "  print('ok')\n",
        "OK()"
      ],
      "metadata": {
        "colab": {
          "base_uri": "https://localhost:8080/"
        },
        "id": "056w4xoVMhgE",
        "outputId": "1988e5a3-8818-4ecb-a49e-fab3fe4e57fd"
      },
      "execution_count": 82,
      "outputs": [
        {
          "output_type": "stream",
          "name": "stdout",
          "text": [
            "ok\n"
          ]
        }
      ]
    },
    {
      "cell_type": "code",
      "source": [
        "def response():\n",
        "  thank = ['thanks' ,'thank you','merci']\n",
        "  thank_bot = ['Merci a vous','thanks']\n",
        "\n",
        "  bot_greetings = ['Bonjour', 'Hello' , 'Hi' , 'Hola']\n",
        "  help_user= [\"could you help me?\", \"give me a hand please\", \"can you help?\", \"what can you do for me?\", \"i need a support\", \"i need a help\", \"support me please\"]\n",
        "  help_bot=[\"Tell me how can assist you\", \"Tell me your problem to assist you\", \"Yes Sure, How can I support you\"]\n",
        "  user_greetings = ['bonjour', 'hello' , 'hi' , 'hola']\n",
        "\n",
        "  # ________________________________________\n",
        "  \n",
        "  exit_list = ['bye' , 'see you later' , 'exit' , 'break']\n",
        "  while(True):\n",
        "    user_input = input()\n",
        "    if user_input.lower() in exit_list:\n",
        "      print('see you later. Au revoir.')\n",
        "      break\n",
        "    else:\n",
        "\n",
        "      if user_input.lower() in thank:\n",
        "        print('Merci')\n",
        "        response()\n",
        "        break\n",
        "        #  t=1\n",
        "      if user_input.lower() in help_user:\n",
        "        print('Doc Bot:'+ random.choice(help_bot))\n",
        "        response()\n",
        "        break\n",
        "      if user_input.lower() in user_greetings:\n",
        "        print('Doc Bot:'+ random.choice(bot_greetings))\n",
        "        response()\n",
        "        break\n",
        "      else:\n",
        "        print('Doc Bot: '+bot_response(user_input)) \n",
        "        "
      ],
      "metadata": {
        "id": "lLvJox8uP5DV"
      },
      "execution_count": 24,
      "outputs": []
    },
    {
      "cell_type": "code",
      "source": [
        "print('Doc Bot : I am Wiki Bot')\n",
        "print('Enter your Wiki')\n",
        "wk = input()\n",
        "\n",
        "text = Wiki(wk)\n",
        "sentence_list = nltk.sent_tokenize(text)\n",
        "\n",
        "\n",
        "response()\n"
      ],
      "metadata": {
        "colab": {
          "base_uri": "https://localhost:8080/"
        },
        "id": "ih3z-s-KTfqI",
        "outputId": "bc147915-b7b9-49ec-e6b8-3bb08514c62f"
      },
      "execution_count": 38,
      "outputs": [
        {
          "output_type": "stream",
          "name": "stdout",
          "text": [
            "Doc Bot : I am Wiki Bot\n",
            "Enter your Wiki\n",
            "TGV\n",
            "speed\n",
            "Doc Bot:  In 1976 the SNCF ordered 87 high-speed trains from Alstom. Following the inaugural service between Paris and Lyon in 1981 on the LGV Sud-Est (LGV for Ligne à Grande Vitesse; \"high-speed line\"), the network, centered on Paris, has expanded to connect major cities across France (including Marseille, Lille, Bordeaux, Strasbourg, Rennes and Montpellier) and in neighbouring countries on a combination of high-speed and conventional lines. The high-speed tracks, maintained by SNCF Réseau, are subject to heavy regulation.\n",
            "fastest\n",
            "Doc Bot:  [1][2]\n",
            "\n",
            "A TGV test train set the world record for the fastest wheeled train, reaching 574.8 km/h (357.2 mph) on 3 April 2007. [4] In 2007, the world's fastest scheduled rail journey was a start-to-stop average speed of 279.4 km/h (173.6 mph) between the Gare de Champagne-Ardenne and Gare de Lorraine on the LGV Est,[5][6] not surpassed until the 2013 reported average of 283.7 km/h (176.3 mph) express service on the Shijiazhuang to Zhengzhou segment of China's Shijiazhuang–Wuhan high-speed railway. The fastest trains take 2 hours 15 minutes London–Paris and 1 hour 51 minutes London–Brussels.\n",
            "thanks\n",
            "Merci\n",
            "bye\n",
            "see you later. Au revoir.\n"
          ]
        }
      ]
    }
  ]
}